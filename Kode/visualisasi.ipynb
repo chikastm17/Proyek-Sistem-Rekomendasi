{
 "cells": [
  {
   "cell_type": "markdown",
   "id": "7150dd40",
   "metadata": {},
   "source": [
    "Visualisasi"
   ]
  },
  {
   "cell_type": "code",
   "execution_count": 1,
   "id": "b73ecc8d",
   "metadata": {},
   "outputs": [
    {
     "name": "stdout",
     "output_type": "stream",
     "text": [
      "Semua library berhasil di-import.\n",
      "\n",
      "Data 'D:\\Sem 7\\Sistem Rekomendasi\\proyek-sistem-informasi\\data-books\\train.csv' berhasil dimuat.\n",
      "Users: 13876, Items: 123069\n",
      "Shape Matriks: (13876, 123069)\n",
      "Shape Train Matrix: (13876, 123069)\n",
      "\n",
      "Mulai melatih model baseline (IBCF)...\n"
     ]
    },
    {
     "data": {
      "application/vnd.jupyter.widget-view+json": {
       "model_id": "16b32e5c505641a9bf153c159ce0321a",
       "version_major": 2,
       "version_minor": 0
      },
      "text/plain": [
       "  0%|          | 0/123069 [00:00<?, ?it/s]"
      ]
     },
     "metadata": {},
     "output_type": "display_data"
    },
    {
     "name": "stdout",
     "output_type": "stream",
     "text": [
      "Model baseline (IBCF) selesai dilatih.\n",
      "\n",
      "Mulai menghitung skor MAP@10 untuk model baseline...\n"
     ]
    },
    {
     "data": {
      "application/vnd.jupyter.widget-view+json": {
       "model_id": "6f16d64dd5e846ab9892c5a46b4b302d",
       "version_major": 2,
       "version_minor": 0
      },
      "text/plain": [
       "  0%|          | 0/11454 [00:00<?, ?it/s]"
      ]
     },
     "metadata": {},
     "output_type": "display_data"
    },
    {
     "name": "stdout",
     "output_type": "stream",
     "text": [
      "\n",
      "--- HASIL MODEL BASELINE (IBCF) ---\n",
      "Skor MAP@10: 0.018602178412511838\n"
     ]
    }
   ],
   "source": [
    "import pandas as pd\n",
    "import numpy as np\n",
    "import scipy.sparse as sparse\n",
    "from implicit.nearest_neighbours import ItemItemRecommender\n",
    "from implicit.evaluation import train_test_split, mean_average_precision_at_k\n",
    "\n",
    "print(\"Semua library berhasil di-import.\")\n",
    "file_path_lokal = r'D:\\Sem 7\\Sistem Rekomendasi\\proyek-sistem-informasi\\data-books\\train.csv'\n",
    "file_path_lokal = file_path_lokal.strip().strip('\"')\n",
    "\n",
    "try:\n",
    "    df = pd.read_csv(file_path_lokal)\n",
    "    print(f\"\\nData '{file_path_lokal}' berhasil dimuat.\")\n",
    "    \n",
    "    df['user_id_cat'] = df['user_id'].astype(\"category\")\n",
    "    df['item_id_cat'] = df['item_id'].astype(\"category\")\n",
    "    \n",
    "    n_users = len(df['user_id_cat'].cat.categories)\n",
    "    n_items = len(df['item_id_cat'].cat.categories)\n",
    "    # Pastikan angka ini sesuai dengan error Anda:\n",
    "    print(f\"Users: {n_users}, Items: {n_items}\") \n",
    "\n",
    "    # ===== INI ADALAH PERBAIKAN KRUSIAL =====\n",
    "    # Pastikan (baris, kolom) adalah (user, item)\n",
    "    interactions_matrix = sparse.csr_matrix(\n",
    "        (np.ones(df.shape[0]),\n",
    "         (df['user_id_cat'].cat.codes,  # <-- Baris = USER\n",
    "          df['item_id_cat'].cat.codes) # <-- Kolom = ITEM\n",
    "        ),\n",
    "        shape=(n_users, n_items) # <-- Shape = (Users, Items)\n",
    "    )\n",
    "    # =======================================\n",
    "    \n",
    "    print(f\"Shape Matriks: {interactions_matrix.shape}\") # <-- HARUS (Users, Items)\n",
    "    \n",
    "    train_matrix, test_matrix = train_test_split(interactions_matrix, train_percentage=0.8, random_state=42)\n",
    "    print(f\"Shape Train Matrix: {train_matrix.shape}\") # <-- HARUS (Users, Items)\n",
    "\n",
    "    print(\"\\nMulai melatih model baseline (IBCF)...\")\n",
    "    model_baseline = ItemItemRecommender(K=20)\n",
    "    model_baseline.fit(train_matrix) # <-- Benar: (Users, Items)\n",
    "    print(\"Model baseline (IBCF) selesai dilatih.\")\n",
    "\n",
    "    print(\"\\nMulai menghitung skor MAP@10 untuk model baseline...\")\n",
    "    map10_baseline = mean_average_precision_at_k(model_baseline,\n",
    "                                                 train_matrix, # <-- Benar: (Users, Items)\n",
    "                                                 test_matrix,  # <-- Benar: (Users, Items)\n",
    "                                                 K=10,\n",
    "                                                 num_threads=0) \n",
    "\n",
    "    print(\"\\n--- HASIL MODEL BASELINE (IBCF) ---\")\n",
    "    print(f\"Skor MAP@10: {map10_baseline}\")\n",
    "\n",
    "except Exception as e:\n",
    "    print(f\"\\nTerjadi error di Sel 1: {e}\")"
   ]
  },
  {
   "cell_type": "code",
   "execution_count": 2,
   "id": "e099b540",
   "metadata": {},
   "outputs": [
    {
     "name": "stdout",
     "output_type": "stream",
     "text": [
      "Library untuk model ALS (AlternatingLeastSquares) berhasil di-import.\n",
      "Model ALS berhasil diinisialisasi.\n",
      "\n",
      "Mulai melatih model canggih (ALS)...\n"
     ]
    },
    {
     "name": "stderr",
     "output_type": "stream",
     "text": [
      "C:\\Anaconda3\\Lib\\site-packages\\implicit\\cpu\\als.py:95: RuntimeWarning: Intel MKL BLAS is configured to use 4 threads. It is highly recommended to disable its internal threadpool by setting the environment variable 'MKL_NUM_THREADS=1' or by callng 'threadpoolctl.threadpool_limits(1, \"blas\")'. Having MKL use a threadpool can lead to severe performance issues\n",
      "  check_blas_config()\n"
     ]
    },
    {
     "data": {
      "application/vnd.jupyter.widget-view+json": {
       "model_id": "4aa498a1701e4775bc10ed1156e75eb9",
       "version_major": 2,
       "version_minor": 0
      },
      "text/plain": [
       "  0%|          | 0/25 [00:00<?, ?it/s]"
      ]
     },
     "metadata": {},
     "output_type": "display_data"
    },
    {
     "name": "stdout",
     "output_type": "stream",
     "text": [
      "Model ALS selesai dilatih. Waktu: 30.94 detik\n",
      "\n",
      "Mulai menghitung skor MAP@10 untuk model ALS...\n"
     ]
    },
    {
     "data": {
      "application/vnd.jupyter.widget-view+json": {
       "model_id": "8516787bfd0f463287446dbc01e1d2e9",
       "version_major": 2,
       "version_minor": 0
      },
      "text/plain": [
       "  0%|          | 0/36233 [00:00<?, ?it/s]"
      ]
     },
     "metadata": {},
     "output_type": "display_data"
    },
    {
     "name": "stdout",
     "output_type": "stream",
     "text": [
      "\n",
      "--- HASIL MODEL CANGGIH (ALS) ---\n",
      "Skor MAP@10: 0.023412103077860163\n",
      "\n",
      "--- PERBANDINGAN ---\n",
      "Baseline (IBCF) MAP@10: 0.018602178412511838\n",
      "Advanced (ALS) MAP@10 : 0.023412103077860163\n",
      "\n",
      "SELAMAT! Model ALS Anda berhasil mengalahkan baseline. 👍\n"
     ]
    }
   ],
   "source": [
    "from implicit.als import AlternatingLeastSquares\n",
    "import time\n",
    "from threadpoolctl import threadpool_limits # Tambahkan import ini\n",
    "\n",
    "\n",
    "print(\"Library untuk model ALS (AlternatingLeastSquares) berhasil di-import.\")\n",
    "\n",
    "# --- 1. Inisialisasi Model Canggih (ALS) ---\n",
    "\n",
    "# Rekomendasi perbaikan untuk kode Anda (library implicit)\n",
    "model_als = AlternatingLeastSquares(factors=256, \n",
    "                                  regularization=0.1, \n",
    "                                  iterations=25, \n",
    "                                  alpha=15.0, \n",
    "                                  random_state=42)\n",
    "print(\"Model ALS berhasil diinisialisasi.\")\n",
    "\n",
    "# --- 2. Latih Model ALS ---\n",
    "\n",
    "print(\"\\nMulai melatih model canggih (ALS)...\")\n",
    "start_time = time.time()\n",
    "\n",
    "# Mengatasi peringatan MKL (opsional tapi disarankan)\n",
    "# Ini akan mematikan 'internal threadpool' MKL agar tidak bentrok\n",
    "threadpool_limits(1, \"blas\")\n",
    "\n",
    "# latih model HANYA pada data latih (train_matrix)\n",
    "\n",
    "model_als.fit(train_matrix.T.tocsr()) \n",
    "end_time = time.time()\n",
    "print(f\"Model ALS selesai dilatih. Waktu: {end_time - start_time:.2f} detik\")\n",
    "\n",
    "# --- 3. Evaluasi Model ALS (MAP@10) ---\n",
    "print(\"\\nMulai menghitung skor MAP@10 untuk model ALS...\")\n",
    "\n",
    "# Hitung skor MAP@10\n",
    "map10_als = mean_average_precision_at_k(model_als,\n",
    "\n",
    "                                        train_matrix.T.tocsr(),\n",
    "\n",
    "                                        test_matrix.T.tocsr(),\n",
    "\n",
    "                                        K=10,\n",
    "\n",
    "                                        num_threads=0) # Menggunakan semua core\n",
    "print(\"\\n--- HASIL MODEL CANGGIH (ALS) ---\")\n",
    "print(f\"Skor MAP@10: {map10_als}\")\n",
    "print(\"\\n--- PERBANDINGAN ---\")\n",
    "\n",
    "# Ambil 'map10_baseline' dari variabel yang sudah Anda jalankan di sel sebelumnya\n",
    "\n",
    "print(f\"Baseline (IBCF) MAP@10: {map10_baseline}\") \n",
    "print(f\"Advanced (ALS) MAP@10 : {map10_als}\")\n",
    "\n",
    "if map10_als > map10_baseline:\n",
    "\n",
    "    print(\"\\nSELAMAT! Model ALS Anda berhasil mengalahkan baseline. 👍\")\n",
    "else:\n",
    "\n",
    "    print(\"\\nModel ALS belum mengalahkan baseline. Coba 'tuning' parameter (factors, regularization, iterations).\")"
   ]
  },
  {
   "cell_type": "code",
   "execution_count": 4,
   "id": "3151284a",
   "metadata": {},
   "outputs": [
    {
     "name": "stdout",
     "output_type": "stream",
     "text": [
      "\n",
      "Membuat visualisasi perbandingan...\n"
     ]
    },
    {
     "data": {
      "image/png": "[encoded data removed]",
      "text/plain": [
       "<Figure size 800x600 with 1 Axes>"
      ]
     },
     "metadata": {},
     "output_type": "display_data"
    }
   ],
   "source": [
    "import matplotlib.pyplot as plt\n",
    "\n",
    "# --- 4. Visualisasi Perbandingan ---\n",
    "# Pastikan sel 1 (Baseline) dan 2 (ALS) sudah Anda jalankan.\n",
    "# Kode ini akan mengambil variabel 'map10_baseline' dan 'map10_als'\n",
    "# yang sudah ada di memori.\n",
    "\n",
    "print(\"\\nMembuat visualisasi perbandingan...\")\n",
    "\n",
    "# Data untuk plot\n",
    "# Kita membandingkan dua model yang sudah Anda latih\n",
    "model_names = ['Baseline (IBCF)', 'Advanced (ALS)']\n",
    "scores = [map10_baseline, map10_als] \n",
    "\n",
    "# Membuat bar chart\n",
    "plt.figure(figsize=(8, 6)) # Atur ukuran gambar\n",
    "colors = ['#4A90E2', '#50E3C2'] # Warna bar (biru, toska)\n",
    "bars = plt.bar(model_names, scores, color=colors, width=0.5) # Beri lebar agar tidak terlalu gemuk\n",
    "\n",
    "# Menambahkan judul dan label\n",
    "plt.title('Perbandingan Skor MAP@10 Antar Model', fontsize=16)\n",
    "plt.ylabel('Skor MAP@10', fontsize=12)\n",
    "plt.xlabel('Model', fontsize=12)\n",
    "\n",
    "# Atur batas Y agar ada ruang di atas bar tertinggi\n",
    "# Kita kalikan 1.15 (15% lebih tinggi)\n",
    "plt.ylim(0, max(scores) * 1.15) \n",
    "\n",
    "# Menambahkan label nilai (skor) di atas setiap bar\n",
    "# Ini adalah bagian penting agar angka mudah dibaca\n",
    "for bar in bars:\n",
    "    yval = bar.get_height()\n",
    "    plt.text(bar.get_x() + bar.get_width()/2.0,  # Posisi X (tengah bar)\n",
    "             yval + (max(scores) * 0.01),        # Posisi Y (sedikit di atas bar)\n",
    "             f'{yval:.4f}',                     # Teks (format 4 angka desimal)\n",
    "             ha='center', va='bottom', fontsize=11)\n",
    "\n",
    "# Tampilkan plot\n",
    "plt.grid(axis='y', linestyle='--', alpha=0.7) # Tambahkan grid horizontal\n",
    "plt.tight_layout() # Merapikan layout\n",
    "plt.show()"
   ]
  },
  {
   "cell_type": "code",
   "execution_count": null,
   "id": "4e26d3db",
   "metadata": {},
   "outputs": [],
   "source": []
  }
 ],
 "metadata": {
  "kernelspec": {
   "display_name": "Python 3 (ipykernel)",
   "language": "python",
   "name": "python3"
  },
  "language_info": {
   "codemirror_mode": {
    "name": "ipython",
    "version": 3
   },
   "file_extension": ".py",
   "mimetype": "text/x-python",
   "name": "python",
   "nbconvert_exporter": "python",
   "pygments_lexer": "ipython3",
   "version": "3.11.4"
  }
 },
 "nbformat": 4,
 "nbformat_minor": 5
}
