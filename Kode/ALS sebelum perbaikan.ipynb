{
 "cells": [
  {
   "cell_type": "code",
   "execution_count": 2,
   "id": "8eb1b507",
   "metadata": {},
   "outputs": [
    {
     "name": "stdout",
     "output_type": "stream",
     "text": [
      "Library untuk model ALS (AlternatingLeastSquares) berhasil di-import.\n",
      "Model ALS berhasil diinisialisasi.\n",
      "\n",
      "Mulai melatih model canggih (ALS)...\n"
     ]
    },
    {
     "ename": "NameError",
     "evalue": "name 'train_matrix' is not defined",
     "output_type": "error",
     "traceback": [
      "\u001b[1;31m---------------------------------------------------------------------------\u001b[0m",
      "\u001b[1;31mNameError\u001b[0m                                 Traceback (most recent call last)",
      "Cell \u001b[1;32mIn[2], line 29\u001b[0m\n\u001b[0;32m     25\u001b[0m threadpool_limits(\u001b[38;5;241m1\u001b[39m, \u001b[38;5;124m\"\u001b[39m\u001b[38;5;124mblas\u001b[39m\u001b[38;5;124m\"\u001b[39m)\n\u001b[0;32m     27\u001b[0m \u001b[38;5;66;03m# latih model HANYA pada data latih (train_matrix)\u001b[39;00m\n\u001b[1;32m---> 29\u001b[0m model_als\u001b[38;5;241m.\u001b[39mfit(train_matrix\u001b[38;5;241m.\u001b[39mT\u001b[38;5;241m.\u001b[39mtocsr()) \n\u001b[0;32m     30\u001b[0m end_time \u001b[38;5;241m=\u001b[39m time\u001b[38;5;241m.\u001b[39mtime()\n\u001b[0;32m     31\u001b[0m \u001b[38;5;28mprint\u001b[39m(\u001b[38;5;124mf\u001b[39m\u001b[38;5;124m\"\u001b[39m\u001b[38;5;124mModel ALS selesai dilatih. Waktu: \u001b[39m\u001b[38;5;132;01m{\u001b[39;00mend_time\u001b[38;5;250m \u001b[39m\u001b[38;5;241m-\u001b[39m\u001b[38;5;250m \u001b[39mstart_time\u001b[38;5;132;01m:\u001b[39;00m\u001b[38;5;124m.2f\u001b[39m\u001b[38;5;132;01m}\u001b[39;00m\u001b[38;5;124m detik\u001b[39m\u001b[38;5;124m\"\u001b[39m)\n",
      "\u001b[1;31mNameError\u001b[0m: name 'train_matrix' is not defined"
     ]
    }
   ],
   "source": [
    "from implicit.als import AlternatingLeastSquares\n",
    "import time\n",
    "from threadpoolctl import threadpool_limits # Tambahkan import ini\n",
    "\n",
    "\n",
    "print(\"Library untuk model ALS (AlternatingLeastSquares) berhasil di-import.\")\n",
    "\n",
    "# --- 1. Inisialisasi Model Canggih (ALS) ---\n",
    "\n",
    "# Rekomendasi perbaikan untuk kode Anda (library implicit)\n",
    "model_als = AlternatingLeastSquares(factors=256, \n",
    "                                  regularization=0.1, \n",
    "                                  iterations=25, \n",
    "                                 \n",
    "                                  random_state=42)\n",
    "print(\"Model ALS berhasil diinisialisasi.\")\n",
    "\n",
    "# --- 2. Latih Model ALS ---\n",
    "\n",
    "print(\"\\nMulai melatih model canggih (ALS)...\")\n",
    "start_time = time.time()\n",
    "\n",
    "# Mengatasi peringatan MKL (opsional tapi disarankan)\n",
    "# Ini akan mematikan 'internal threadpool' MKL agar tidak bentrok\n",
    "threadpool_limits(1, \"blas\")\n",
    "\n",
    "# latih model HANYA pada data latih (train_matrix)\n",
    "\n",
    "model_als.fit(train_matrix.T.tocsr()) \n",
    "end_time = time.time()\n",
    "print(f\"Model ALS selesai dilatih. Waktu: {end_time - start_time:.2f} detik\")\n",
    "\n",
    "# --- 3. Evaluasi Model ALS (MAP@10) ---\n",
    "print(\"\\nMulai menghitung skor MAP@10 untuk model ALS...\")\n",
    "\n",
    "# Hitung skor MAP@10\n",
    "map10_als = mean_average_precision_at_k(model_als,\n",
    "\n",
    "                                        train_matrix.T.tocsr(),\n",
    "\n",
    "                                        test_matrix.T.tocsr(),\n",
    "\n",
    "                                        K=10,\n",
    "\n",
    "                                        num_threads=0) # Menggunakan semua core\n",
    "print(\"\\n--- HASIL MODEL CANGGIH (ALS) ---\")\n",
    "print(f\"Skor MAP@10: {map10_als}\")\n",
    "print(\"\\n--- PERBANDINGAN ---\")\n",
    "\n",
    "# Ambil 'map10_baseline' dari variabel yang sudah Anda jalankan di sel sebelumnya\n",
    "\n",
    "print(f\"Baseline (IBCF) MAP@10: {map10_baseline}\") \n",
    "print(f\"Advanced (ALS) MAP@10 : {map10_als}\")\n",
    "\n",
    "if map10_als > map10_baseline:\n",
    "\n",
    "    print(\"\\nSELAMAT! Model ALS Anda berhasil mengalahkan baseline. 👍\")\n",
    "else:\n",
    "\n",
    "    print(\"\\nModel ALS belum mengalahkan baseline. Coba 'tuning' parameter (factors, regularization, iterations).\")"
   ]
  },
  {
   "cell_type": "code",
   "execution_count": null,
   "id": "31d4910b",
   "metadata": {},
   "outputs": [],
   "source": []
  }
 ],
 "metadata": {
  "kernelspec": {
   "display_name": "Python 3 (ipykernel)",
   "language": "python",
   "name": "python3"
  },
  "language_info": {
   "codemirror_mode": {
    "name": "ipython",
    "version": 3
   },
   "file_extension": ".py",
   "mimetype": "text/x-python",
   "name": "python",
   "nbconvert_exporter": "python",
   "pygments_lexer": "ipython3",
   "version": "3.11.4"
  }
 },
 "nbformat": 4,
 "nbformat_minor": 5
}
