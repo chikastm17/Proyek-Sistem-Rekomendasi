{
 "cells": [
  {
   "cell_type": "code",
   "execution_count": 1,
   "id": "1b492c17",
   "metadata": {},
   "outputs": [
    {
     "name": "stdout",
     "output_type": "stream",
     "text": [
      "Semua library berhasil di-import.\n",
      "\n",
      "Data 'D:\\Sem 7\\Sistem Rekomendasi\\proyek-sistem-informasi\\data-books\\train.csv' berhasil dimuat.\n",
      "Users: 13876, Items: 123069\n",
      "Shape Matriks: (13876, 123069)\n",
      "Shape Train Matrix: (13876, 123069)\n",
      "\n",
      "Mulai melatih model baseline (IBCF)...\n"
     ]
    },
    {
     "data": {
      "application/vnd.jupyter.widget-view+json": {
       "model_id": "1ec8fa08d42b4ab3a2e909640198f0c1",
       "version_major": 2,
       "version_minor": 0
      },
      "text/plain": [
       "  0%|          | 0/123069 [00:00<?, ?it/s]"
      ]
     },
     "metadata": {},
     "output_type": "display_data"
    },
    {
     "name": "stdout",
     "output_type": "stream",
     "text": [
      "Model baseline (IBCF) selesai dilatih.\n",
      "\n",
      "Mulai menghitung skor MAP@10 untuk model baseline...\n"
     ]
    },
    {
     "data": {
      "application/vnd.jupyter.widget-view+json": {
       "model_id": "b3838eadf85247b4828d0324b7c8564a",
       "version_major": 2,
       "version_minor": 0
      },
      "text/plain": [
       "  0%|          | 0/11454 [00:00<?, ?it/s]"
      ]
     },
     "metadata": {},
     "output_type": "display_data"
    },
    {
     "name": "stdout",
     "output_type": "stream",
     "text": [
      "\n",
      "--- HASIL MODEL BASELINE (IBCF) ---\n",
      "Skor MAP@10: 0.018602178412511838\n"
     ]
    }
   ],
   "source": [
    "import pandas as pd\n",
    "import numpy as np\n",
    "import scipy.sparse as sparse\n",
    "from implicit.nearest_neighbours import ItemItemRecommender\n",
    "from implicit.evaluation import train_test_split, mean_average_precision_at_k\n",
    "\n",
    "print(\"Semua library berhasil di-import.\")\n",
    "file_path_lokal = r'D:\\Sem 7\\Sistem Rekomendasi\\proyek-sistem-informasi\\data-books\\train.csv'\n",
    "file_path_lokal = file_path_lokal.strip().strip('\"')\n",
    "\n",
    "try:\n",
    "    df = pd.read_csv(file_path_lokal)\n",
    "    print(f\"\\nData '{file_path_lokal}' berhasil dimuat.\")\n",
    "    \n",
    "    df['user_id_cat'] = df['user_id'].astype(\"category\")\n",
    "    df['item_id_cat'] = df['item_id'].astype(\"category\")\n",
    "    \n",
    "    n_users = len(df['user_id_cat'].cat.categories)\n",
    "    n_items = len(df['item_id_cat'].cat.categories)\n",
    "    # Pastikan angka ini sesuai dengan error Anda:\n",
    "    print(f\"Users: {n_users}, Items: {n_items}\") \n",
    "\n",
    "    # ===== INI ADALAH PERBAIKAN KRUSIAL =====\n",
    "    # Pastikan (baris, kolom) adalah (user, item)\n",
    "    interactions_matrix = sparse.csr_matrix(\n",
    "        (np.ones(df.shape[0]),\n",
    "         (df['user_id_cat'].cat.codes,  # <-- Baris = USER\n",
    "          df['item_id_cat'].cat.codes) # <-- Kolom = ITEM\n",
    "        ),\n",
    "        shape=(n_users, n_items) # <-- Shape = (Users, Items)\n",
    "    )\n",
    "    # =======================================\n",
    "    \n",
    "    print(f\"Shape Matriks: {interactions_matrix.shape}\") # <-- HARUS (Users, Items)\n",
    "    \n",
    "    train_matrix, test_matrix = train_test_split(interactions_matrix, train_percentage=0.8, random_state=42)\n",
    "    print(f\"Shape Train Matrix: {train_matrix.shape}\") # <-- HARUS (Users, Items)\n",
    "\n",
    "    print(\"\\nMulai melatih model baseline (IBCF)...\")\n",
    "    model_baseline = ItemItemRecommender(K=20)\n",
    "    model_baseline.fit(train_matrix) # <-- Benar: (Users, Items)\n",
    "    print(\"Model baseline (IBCF) selesai dilatih.\")\n",
    "\n",
    "    print(\"\\nMulai menghitung skor MAP@10 untuk model baseline...\")\n",
    "    map10_baseline = mean_average_precision_at_k(model_baseline,\n",
    "                                                 train_matrix, # <-- Benar: (Users, Items)\n",
    "                                                 test_matrix,  # <-- Benar: (Users, Items)\n",
    "                                                 K=10,\n",
    "                                                 num_threads=0) \n",
    "\n",
    "    print(\"\\n--- HASIL MODEL BASELINE (IBCF) ---\")\n",
    "    print(f\"Skor MAP@10: {map10_baseline}\")\n",
    "\n",
    "except Exception as e:\n",
    "    print(f\"\\nTerjadi error di Sel 1: {e}\")"
   ]
  },
  {
   "cell_type": "code",
   "execution_count": null,
   "id": "69688f5b",
   "metadata": {},
   "outputs": [],
   "source": []
  }
 ],
 "metadata": {
  "kernelspec": {
   "display_name": "Python 3 (ipykernel)",
   "language": "python",
   "name": "python3"
  },
  "language_info": {
   "codemirror_mode": {
    "name": "ipython",
    "version": 3
   },
   "file_extension": ".py",
   "mimetype": "text/x-python",
   "name": "python",
   "nbconvert_exporter": "python",
   "pygments_lexer": "ipython3",
   "version": "3.11.4"
  }
 },
 "nbformat": 4,
 "nbformat_minor": 5
}
