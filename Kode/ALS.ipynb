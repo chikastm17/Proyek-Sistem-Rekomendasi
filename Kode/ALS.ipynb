{
 "cells": [
  {
   "cell_type": "code",
   "execution_count": 8,
   "id": "8eb1b507",
   "metadata": {},
   "outputs": [
    {
     "name": "stdout",
     "output_type": "stream",
     "text": [
      "Library untuk model ALS (AlternatingLeastSquares) berhasil di-import.\n",
      "Model ALS berhasil diinisialisasi.\n",
      "\n",
      "Mulai melatih model canggih (ALS)...\n"
     ]
    },
    {
     "data": {
      "application/vnd.jupyter.widget-view+json": {
       "model_id": "96925b96ba194b9491d1942b56c36c8e",
       "version_major": 2,
       "version_minor": 0
      },
      "text/plain": [
       "  0%|          | 0/25 [00:00<?, ?it/s]"
      ]
     },
     "metadata": {},
     "output_type": "display_data"
    },
    {
     "name": "stdout",
     "output_type": "stream",
     "text": [
      "Model ALS selesai dilatih. Waktu: 29.90 detik\n",
      "\n",
      "Mulai menghitung skor MAP@10 untuk model ALS...\n"
     ]
    },
    {
     "data": {
      "application/vnd.jupyter.widget-view+json": {
       "model_id": "e12e824bd1a041a7baec92f10cb00ee1",
       "version_major": 2,
       "version_minor": 0
      },
      "text/plain": [
       "  0%|          | 0/36233 [00:00<?, ?it/s]"
      ]
     },
     "metadata": {},
     "output_type": "display_data"
    },
    {
     "name": "stdout",
     "output_type": "stream",
     "text": [
      "\n",
      "--- HASIL MODEL CANGGIH (ALS) ---\n",
      "Skor MAP@10: 0.023412103077860163\n",
      "\n",
      "--- PERBANDINGAN ---\n",
      "Baseline (IBCF) MAP@10: 0.018602178412511838\n",
      "Advanced (ALS) MAP@10 : 0.023412103077860163\n",
      "\n",
      "SELAMAT! Model ALS Anda berhasil mengalahkan baseline. 👍\n"
     ]
    }
   ],
   "source": [
    "from implicit.als import AlternatingLeastSquares\n",
    "import time\n",
    "from threadpoolctl import threadpool_limits # Tambahkan import ini\n",
    "\n",
    "\n",
    "print(\"Library untuk model ALS (AlternatingLeastSquares) berhasil di-import.\")\n",
    "\n",
    "# --- 1. Inisialisasi Model Canggih (ALS) ---\n",
    "\n",
    "# Rekomendasi perbaikan untuk kode Anda (library implicit)\n",
    "model_als = AlternatingLeastSquares(factors=256, \n",
    "                                  regularization=0.1, \n",
    "                                  iterations=25, \n",
    "                                  alpha=15.0, \n",
    "                                  random_state=42)\n",
    "print(\"Model ALS berhasil diinisialisasi.\")\n",
    "\n",
    "# --- 2. Latih Model ALS ---\n",
    "\n",
    "print(\"\\nMulai melatih model canggih (ALS)...\")\n",
    "start_time = time.time()\n",
    "\n",
    "# Mengatasi peringatan MKL (opsional tapi disarankan)\n",
    "# Ini akan mematikan 'internal threadpool' MKL agar tidak bentrok\n",
    "threadpool_limits(1, \"blas\")\n",
    "\n",
    "# latih model HANYA pada data latih (train_matrix)\n",
    "\n",
    "model_als.fit(train_matrix.T.tocsr()) \n",
    "end_time = time.time()\n",
    "print(f\"Model ALS selesai dilatih. Waktu: {end_time - start_time:.2f} detik\")\n",
    "\n",
    "# --- 3. Evaluasi Model ALS (MAP@10) ---\n",
    "print(\"\\nMulai menghitung skor MAP@10 untuk model ALS...\")\n",
    "\n",
    "# Hitung skor MAP@10\n",
    "map10_als = mean_average_precision_at_k(model_als,\n",
    "\n",
    "                                        train_matrix.T.tocsr(),\n",
    "\n",
    "                                        test_matrix.T.tocsr(),\n",
    "\n",
    "                                        K=10,\n",
    "\n",
    "                                        num_threads=0) # Menggunakan semua core\n",
    "print(\"\\n--- HASIL MODEL CANGGIH (ALS) ---\")\n",
    "print(f\"Skor MAP@10: {map10_als}\")\n",
    "print(\"\\n--- PERBANDINGAN ---\")\n",
    "\n",
    "# Ambil 'map10_baseline' dari variabel yang sudah Anda jalankan di sel sebelumnya\n",
    "\n",
    "print(f\"Baseline (IBCF) MAP@10: {map10_baseline}\") \n",
    "print(f\"Advanced (ALS) MAP@10 : {map10_als}\")\n",
    "\n",
    "if map10_als > map10_baseline:\n",
    "\n",
    "    print(\"\\nSELAMAT! Model ALS Anda berhasil mengalahkan baseline. 👍\")\n",
    "else:\n",
    "\n",
    "    print(\"\\nModel ALS belum mengalahkan baseline. Coba 'tuning' parameter (factors, regularization, iterations).\")"
   ]
  },
  {
   "cell_type": "code",
   "execution_count": null,
   "id": "31d4910b",
   "metadata": {},
   "outputs": [],
   "source": []
  }
 ],
 "metadata": {
  "kernelspec": {
   "display_name": "Python 3 (ipykernel)",
   "language": "python",
   "name": "python3"
  },
  "language_info": {
   "codemirror_mode": {
    "name": "ipython",
    "version": 3
   },
   "file_extension": ".py",
   "mimetype": "text/x-python",
   "name": "python",
   "nbconvert_exporter": "python",
   "pygments_lexer": "ipython3",
   "version": "3.11.4"
  }
 },
 "nbformat": 4,
 "nbformat_minor": 5
}
